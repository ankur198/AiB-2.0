{
 "cells": [
  {
   "cell_type": "markdown",
   "metadata": {},
   "source": [
    "## Install Dependencies"
   ]
  },
  {
   "cell_type": "code",
   "execution_count": null,
   "metadata": {},
   "outputs": [],
   "source": [
    "%pip install python-dotenv openai --quiet"
   ]
  },
  {
   "cell_type": "markdown",
   "metadata": {},
   "source": [
    "## Create openai Object"
   ]
  },
  {
   "cell_type": "code",
   "execution_count": 28,
   "metadata": {},
   "outputs": [],
   "source": [
    "import os\n",
    "import openai\n",
    "import dotenv\n",
    "dotenv.load_dotenv()\n",
    "from IPython.display import Markdown, display\n",
    "\n",
    "llm = openai.OpenAI(\n",
    "  api_key=os.environ.get(\"TOGETHER_API_KEY\"),\n",
    "  base_url=\"https://api.together.xyz/v1\",\n",
    ")"
   ]
  },
  {
   "cell_type": "markdown",
   "metadata": {},
   "source": [
    "### Zero Shot Prompt"
   ]
  },
  {
   "cell_type": "code",
   "execution_count": 29,
   "metadata": {},
   "outputs": [
    {
     "data": {
      "text/markdown": [
       "I'd be happy to help! However, I'm a large language model, I don't have the capability to directly create files on your local machine. But I can guide you through the process of creating a new file.\n",
       "\n",
       "To create a new file, you can follow these steps:\n",
       "\n",
       "**Method 1: Using a Text Editor**\n",
       "\n",
       "1. Open a text editor on your computer, such as Notepad on Windows or TextEdit on Mac.\n",
       "2. Click on \"File\" in the top menu bar and select \"New\" (or press Ctrl+N on Windows or Command+N on Mac).\n",
       "3. A new blank file will open. You can start typing in the file and save it with a name of your choice.\n",
       "\n",
       "**Method 2: Using the Command Line**\n",
       "\n",
       "1. Open a terminal or command prompt on your computer.\n",
       "2. Navigate to the directory where you want to create the new file using the `cd` command.\n",
       "3. Type the following command to create a new file: `touch filename.txt` (replace \"filename\" with the desired name of your file).\n",
       "4. Press Enter to create the file.\n",
       "\n",
       "**Method 3: Using a Graphical User Interface**\n",
       "\n",
       "1. Open File Explorer on Windows or Finder on Mac.\n",
       "2. Navigate to the directory where you want to create the new file.\n",
       "3. Right-click (or control-click on Mac) in the directory and select \"New\" > \"Text Document\" (or \"New File\" on Mac).\n",
       "4. A new blank file will be created. You can rename it to your desired filename.\n",
       "\n",
       "That's it! You should now have a brand new file created on your computer."
      ],
      "text/plain": [
       "<IPython.core.display.Markdown object>"
      ]
     },
     "metadata": {},
     "output_type": "display_data"
    }
   ],
   "source": [
    "response = llm.chat.completions.create(\n",
    "  model=\"meta-llama/Meta-Llama-3-70B-Instruct-Turbo\",\n",
    "  messages=[\n",
    "    {\"role\": \"user\", \"content\": \"create a new file\"},\n",
    "  ]\n",
    ")\n",
    "\n",
    "display(Markdown(response.choices[0].message.content))"
   ]
  },
  {
   "cell_type": "markdown",
   "metadata": {},
   "source": [
    "## N Shot Prompt"
   ]
  },
  {
   "cell_type": "code",
   "execution_count": 27,
   "metadata": {},
   "outputs": [
    {
     "data": {
      "text/markdown": [
       "chmod +x new_file.txt"
      ],
      "text/plain": [
       "<IPython.core.display.Markdown object>"
      ]
     },
     "metadata": {},
     "output_type": "display_data"
    }
   ],
   "source": [
    "response = llm.chat.completions.create(\n",
    "    model=\"meta-llama/Meta-Llama-3-70B-Instruct-Turbo\",\n",
    "    messages=[\n",
    "        # example 1\n",
    "        {\"role\": \"user\", \"content\": \"create a new file\"},\n",
    "        {\"role\": \"assistant\", \"content\": \"touch new_file.txt\"},\n",
    "        # example 2\n",
    "        {\"role\": \"user\", \"content\": \"print the contents of the file\"},\n",
    "        {\"role\": \"assistant\", \"content\": \"cat new_file.txt\"},\n",
    "\n",
    "        # user prompt\n",
    "        {\"role\": \"user\", \"content\": \"make file executable\"},\n",
    "    ],\n",
    ")\n",
    "\n",
    "display(Markdown(response.choices[0].message.content))"
   ]
  },
  {
   "cell_type": "markdown",
   "metadata": {},
   "source": [
    "### Chain of thoughts"
   ]
  },
  {
   "cell_type": "code",
   "execution_count": 32,
   "metadata": {},
   "outputs": [
    {
     "data": {
      "text/markdown": [
       "Here are the steps to create a new Java Maven project:\n",
       "\n",
       "```yaml\n",
       "steps:\n",
       "- name: Install OpenJDK\n",
       "  command: sudo apt-get update && sudo apt-get install default-jdk\n",
       "  description: Install OpenJDK to compile and run Java programs\n",
       "\n",
       "- name: Install Maven\n",
       "  command: sudo apt-get install maven\n",
       "  description: Install Maven to manage the project\n",
       "\n",
       "- name: Create a new directory for the project\n",
       "  command: mkdir myproject\n",
       "  description: Create a new directory to hold the project files\n",
       "\n",
       "- name: Navigate to the project directory\n",
       "  command: cd myproject\n",
       "  description: Move into the project directory\n",
       "\n",
       "- name: Create a new Maven project\n",
       "  command: mvn archetype:generate -DgroupId=com.example -DartifactId=myproject -DarchetypeArtifactId=maven-archetype-quickstart\n",
       "  description: Create a new Maven project with the specified group ID and artifact ID\n",
       "\n",
       "- name: Navigate to the project directory\n",
       "  command: cd myproject\n",
       "  description: Move into the project directory\n",
       "\n",
       "- name: Compile the project\n",
       "  command: mvn compile\n",
       "  description: Compile the project to ensure it's set up correctly\n",
       "```"
      ],
      "text/plain": [
       "<IPython.core.display.Markdown object>"
      ]
     },
     "metadata": {},
     "output_type": "display_data"
    }
   ],
   "source": [
    "userMessage = \"I want to create a java maven application. I don't have any dependencies installed. Can you help me with the steps to create a new maven project?\"\n",
    "\n",
    "response = llm.chat.completions.create(\n",
    "    model=\"meta-llama/Meta-Llama-3-70B-Instruct-Turbo\",\n",
    "    messages=[\n",
    "        # system prompt\n",
    "        {\"role\": \"system\", \"content\": \"\"\"You are operating a Ubuntu based OS. You need to provide the steps to perform the user asked operation. Try to break down the steps into smaller steps and provide the commands to execute each step.\n",
    "         \n",
    "        Provide commands in following YAML format:\n",
    "        ``` yaml\n",
    "        steps:\n",
    "        - name: Step 1\n",
    "          command: touch new_file.txt\n",
    "          description: Create a new file named new_file.txt\n",
    "        - name: Step 2\n",
    "          command: cat new_file.txt\n",
    "          description: Print the contents of the file new_file.txt\n",
    "        ```\n",
    "         \n",
    "         Do not provide headings for each step. Provide the commands in the above format.\n",
    "         \"\"\"},\n",
    "\n",
    "        # user prompt\n",
    "        {\"role\": \"user\", \"content\": userMessage},\n",
    "    ],\n",
    ")\n",
    "\n",
    "responseMarkdown = response.choices[0].message.content\n",
    "\n",
    "# print(responseMarkdown)\n",
    "display(Markdown(responseMarkdown))"
   ]
  }
 ],
 "metadata": {
  "kernelspec": {
   "display_name": "Python 3",
   "language": "python",
   "name": "python3"
  },
  "language_info": {
   "codemirror_mode": {
    "name": "ipython",
    "version": 3
   },
   "file_extension": ".py",
   "mimetype": "text/x-python",
   "name": "python",
   "nbconvert_exporter": "python",
   "pygments_lexer": "ipython3",
   "version": "3.12.4"
  }
 },
 "nbformat": 4,
 "nbformat_minor": 2
}
